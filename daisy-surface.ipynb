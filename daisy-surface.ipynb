{
 "cells": [
  {
   "cell_type": "code",
   "execution_count": 2,
   "metadata": {},
   "outputs": [
    {
     "data": {
      "text/plain": [
       "'temp-plot.html'"
      ]
     },
     "execution_count": 2,
     "metadata": {},
     "output_type": "execute_result"
    }
   ],
   "source": [
    "import numpy as np\n",
    "import plotly.graph_objs as go\n",
    "import plotly.offline as pyo\n",
    "\n",
    "# Create a grid of x, y values\n",
    "x = np.linspace(-2, 2, 400)\n",
    "y = np.linspace(-2, 2, 400)\n",
    "x, y = np.meshgrid(x, y)\n",
    "\n",
    "# Calculate the corresponding z values based on the equation\n",
    "def surface_equation(x, y):\n",
    "    # Solve for z^2 = y^2 + ((x^2 - y^3)^2)^(1/3)\n",
    "    z_squared = y**2 + np.cbrt((x**2 - y**3)**2)\n",
    "    return np.sqrt(z_squared), -np.sqrt(z_squared)\n",
    "\n",
    "z1, z2 = surface_equation(x, y)\n",
    "\n",
    "# Create surface plots\n",
    "surface1 = go.Surface(x=x, y=y, z=z1, colorscale='Viridis', opacity=0.7)\n",
    "surface2 = go.Surface(x=x, y=y, z=z2, colorscale='Viridis', opacity=0.7)\n",
    "\n",
    "# Create the figure\n",
    "fig = go.Figure(data=[surface1, surface2])\n",
    "\n",
    "# Update layout for better visuals\n",
    "fig.update_layout(scene=dict(\n",
    "                    xaxis_title='X',\n",
    "                    yaxis_title='Y',\n",
    "                    zaxis_title='Z'))\n",
    "\n",
    "# Show the plot\n",
    "pyo.plot(fig)\n"
   ]
  }
 ],
 "metadata": {
  "kernelspec": {
   "display_name": "Python 3",
   "language": "python",
   "name": "python3"
  },
  "language_info": {
   "codemirror_mode": {
    "name": "ipython",
    "version": 3
   },
   "file_extension": ".py",
   "mimetype": "text/x-python",
   "name": "python",
   "nbconvert_exporter": "python",
   "pygments_lexer": "ipython3",
   "version": "3.12.2"
  }
 },
 "nbformat": 4,
 "nbformat_minor": 2
}
