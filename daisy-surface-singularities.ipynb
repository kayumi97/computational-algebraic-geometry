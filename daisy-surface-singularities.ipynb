{
 "cells": [
  {
   "cell_type": "markdown",
   "metadata": {},
   "source": [
    "Obs: Está plotando somente uma das curvas singulares."
   ]
  },
  {
   "cell_type": "code",
   "execution_count": 11,
   "metadata": {},
   "outputs": [
    {
     "name": "stderr",
     "output_type": "stream",
     "text": [
      "C:\\Users\\DEll\\AppData\\Local\\Temp\\ipykernel_23360\\1151027021.py:22: RuntimeWarning:\n",
      "\n",
      "invalid value encountered in power\n",
      "\n",
      "C:\\Users\\DEll\\AppData\\Local\\Temp\\ipykernel_23360\\1151027021.py:25: RuntimeWarning:\n",
      "\n",
      "invalid value encountered in power\n",
      "\n"
     ]
    },
    {
     "data": {
      "text/plain": [
       "'temp-plot.html'"
      ]
     },
     "execution_count": 11,
     "metadata": {},
     "output_type": "execute_result"
    }
   ],
   "source": [
    "import numpy as np\n",
    "import plotly.graph_objs as go\n",
    "import plotly.offline as pyo\n",
    "\n",
    "# Create a grid of x, y values\n",
    "x = np.linspace(-2, 2, 200)\n",
    "y = np.linspace(-2, 2, 200)\n",
    "x, y = np.meshgrid(x, y)\n",
    "\n",
    "# Calculate the corresponding z values based on the equation\n",
    "def surface_equation(x, y):\n",
    "    z_squared = y**2 + np.cbrt((x**2 - y**3)**2)\n",
    "    return np.sqrt(z_squared), -np.sqrt(z_squared)\n",
    "\n",
    "z1, z2 = surface_equation(x, y)\n",
    "\n",
    "# Define the singular points\n",
    "sing_y = np.linspace(-2, 2, 100)\n",
    "sing_x1 = np.zeros_like(sing_y)\n",
    "sing_z1 = np.zeros_like(sing_y)\n",
    "\n",
    "sing_x2 = sing_y**(3/2)\n",
    "sing_z2 = sing_y\n",
    "\n",
    "sing_x3 = -sing_y**(3/2)\n",
    "sing_z3 = -sing_y\n",
    "\n",
    "# Create surface plots\n",
    "surface1 = go.Surface(x=x, y=y, z=z1, colorscale='Viridis', opacity=0.7)\n",
    "surface2 = go.Surface(x=x, y=y, z=z2, colorscale='Viridis', opacity=0.7)\n",
    "\n",
    "# Create scatter plot for singular points\n",
    "\n",
    "singular_points_trace2 = go.Scatter3d(x=sing_x2, y=sing_y, z=sing_z2,\n",
    "                                      mode='markers',\n",
    "                                      marker=dict(size=5, color='red'))\n",
    "\n",
    "\n",
    "# Create the figure\n",
    "fig = go.Figure(data=[surface1, surface2, singular_points_trace2])\n",
    "\n",
    "# Update layout for better visuals\n",
    "fig.update_layout(scene=dict(\n",
    "                    xaxis_title='X',\n",
    "                    yaxis_title='Y',\n",
    "                    zaxis_title='Z'))\n",
    "\n",
    "# Show the plot\n",
    "pyo.plot(fig)\n"
   ]
  }
 ],
 "metadata": {
  "kernelspec": {
   "display_name": "Python 3",
   "language": "python",
   "name": "python3"
  },
  "language_info": {
   "codemirror_mode": {
    "name": "ipython",
    "version": 3
   },
   "file_extension": ".py",
   "mimetype": "text/x-python",
   "name": "python",
   "nbconvert_exporter": "python",
   "pygments_lexer": "ipython3",
   "version": "3.12.2"
  }
 },
 "nbformat": 4,
 "nbformat_minor": 2
}
